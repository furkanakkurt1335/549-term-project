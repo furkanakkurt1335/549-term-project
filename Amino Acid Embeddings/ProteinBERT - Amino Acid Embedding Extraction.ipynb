{
 "cells": [
  {
   "cell_type": "code",
   "execution_count": 46,
   "id": "53e5f315",
   "metadata": {},
   "outputs": [],
   "source": [
    "import json\n",
    "from huggingface_hub import from_pretrained_keras"
   ]
  },
  {
   "cell_type": "code",
   "execution_count": 5,
   "id": "e90e5695",
   "metadata": {},
   "outputs": [
    {
     "name": "stderr",
     "output_type": "stream",
     "text": [
      "config.json not found in HuggingFace Hub.\n"
     ]
    },
    {
     "data": {
      "application/vnd.jupyter.widget-view+json": {
       "model_id": "6aa461d07754437fa037f87a637237b4",
       "version_major": 2,
       "version_minor": 0
      },
      "text/plain": [
       "Fetching 7 files:   0%|          | 0/7 [00:00<?, ?it/s]"
      ]
     },
     "metadata": {},
     "output_type": "display_data"
    },
    {
     "data": {
      "application/vnd.jupyter.widget-view+json": {
       "model_id": "842b72b2ca714b5e846afef51b36d854",
       "version_major": 2,
       "version_minor": 0
      },
      "text/plain": [
       "Downloading (…)bles/variables.index:   0%|          | 0.00/9.16k [00:00<?, ?B/s]"
      ]
     },
     "metadata": {},
     "output_type": "display_data"
    },
    {
     "name": "stderr",
     "output_type": "stream",
     "text": [
      "C:\\Users\\Meliksah\\AppData\\Local\\Programs\\Python\\Python38\\lib\\site-packages\\huggingface_hub\\file_download.py:137: UserWarning: `huggingface_hub` cache-system uses symlinks by default to efficiently store duplicated files but your machine does not support them in C:\\Users\\Meliksah\\.cache\\huggingface\\hub. Caching files will still work but in a degraded version that might require more space on your disk. This warning can be disabled by setting the `HF_HUB_DISABLE_SYMLINKS_WARNING` environment variable. For more details, see https://huggingface.co/docs/huggingface_hub/how-to-cache#limitations.\n",
      "To support symlinks on Windows, you either need to activate Developer Mode or to run Python as an administrator. In order to see activate developer mode, see this article: https://docs.microsoft.com/en-us/windows/apps/get-started/enable-your-device-for-development\n",
      "  warnings.warn(message)\n"
     ]
    },
    {
     "data": {
      "application/vnd.jupyter.widget-view+json": {
       "model_id": "bb983535d0e249faa3143996a4abe814",
       "version_major": 2,
       "version_minor": 0
      },
      "text/plain": [
       "Downloading README.md:   0%|          | 0.00/5.25k [00:00<?, ?B/s]"
      ]
     },
     "metadata": {},
     "output_type": "display_data"
    },
    {
     "data": {
      "application/vnd.jupyter.widget-view+json": {
       "model_id": "02afe7e264234a38b7e0e6998186c2d3",
       "version_major": 2,
       "version_minor": 0
      },
      "text/plain": [
       "Downloading .gitattributes:   0%|          | 0.00/1.59k [00:00<?, ?B/s]"
      ]
     },
     "metadata": {},
     "output_type": "display_data"
    },
    {
     "data": {
      "application/vnd.jupyter.widget-view+json": {
       "model_id": "21cb2ec96c8344f1a50dbe684a139e4c",
       "version_major": 2,
       "version_minor": 0
      },
      "text/plain": [
       "Downloading fingerprint.pb:   0%|          | 0.00/58.0 [00:00<?, ?B/s]"
      ]
     },
     "metadata": {},
     "output_type": "display_data"
    },
    {
     "data": {
      "application/vnd.jupyter.widget-view+json": {
       "model_id": "312058fe31f84e14ad35aefe02ea8058",
       "version_major": 2,
       "version_minor": 0
      },
      "text/plain": [
       "Downloading keras_metadata.pb:   0%|          | 0.00/202k [00:00<?, ?B/s]"
      ]
     },
     "metadata": {},
     "output_type": "display_data"
    },
    {
     "data": {
      "application/vnd.jupyter.widget-view+json": {
       "model_id": "f60435e2a72a42128374f0e3209ecde4",
       "version_major": 2,
       "version_minor": 0
      },
      "text/plain": [
       "Downloading saved_model.pb:   0%|          | 0.00/2.86M [00:00<?, ?B/s]"
      ]
     },
     "metadata": {},
     "output_type": "display_data"
    },
    {
     "data": {
      "application/vnd.jupyter.widget-view+json": {
       "model_id": "6caa34ca9854413fa66885334461ab17",
       "version_major": 2,
       "version_minor": 0
      },
      "text/plain": [
       "Downloading (…).data-00000-of-00001:   0%|          | 0.00/64.0M [00:00<?, ?B/s]"
      ]
     },
     "metadata": {},
     "output_type": "display_data"
    },
    {
     "name": "stdout",
     "output_type": "stream",
     "text": [
      "WARNING:tensorflow:No training configuration found in save file, so the model was *not* compiled. Compile it manually.\n"
     ]
    }
   ],
   "source": [
    "model = from_pretrained_keras(\"GrimSqueaker/proteinBERT\")"
   ]
  },
  {
   "cell_type": "code",
   "execution_count": 20,
   "id": "9667973c",
   "metadata": {},
   "outputs": [],
   "source": [
    "embedding_matrix = model.weights[2].numpy()"
   ]
  },
  {
   "cell_type": "code",
   "execution_count": 22,
   "id": "e836074a",
   "metadata": {},
   "outputs": [
    {
     "data": {
      "text/plain": [
       "(26, 128)"
      ]
     },
     "execution_count": 22,
     "metadata": {},
     "output_type": "execute_result"
    }
   ],
   "source": [
    "embedding_matrix.shape"
   ]
  },
  {
   "cell_type": "markdown",
   "id": "f225a668",
   "metadata": {},
   "source": [
    "#### Tokenization"
   ]
  },
  {
   "cell_type": "code",
   "execution_count": 23,
   "id": "5613a625",
   "metadata": {},
   "outputs": [],
   "source": [
    "# Below are taken from:\n",
    "# https://github.com/nadavbra/protein_bert/blob/master/proteinbert/tokenization.py\n",
    "# AA Mapping: https://www.cup.uni-muenchen.de/ch/compchem/tink/as.html\n",
    "ALL_AAS = 'ACDEFGHIKLMNPQRSTUVWXY'\n",
    "ADDITIONAL_TOKENS = ['<OTHER>', '<START>', '<END>', '<PAD>']\n",
    "\n",
    "# Each sequence is added <START> and <END> tokens\n",
    "ADDED_TOKENS_PER_SEQ = 2\n",
    "\n",
    "n_aas = len(ALL_AAS)\n",
    "aa_to_token_index = {aa: i for i, aa in enumerate(ALL_AAS)}\n",
    "additional_token_to_index = {token: i + n_aas for i, token in enumerate(ADDITIONAL_TOKENS)}\n",
    "token_to_index = {**aa_to_token_index, **additional_token_to_index}\n",
    "index_to_token = {index: token for token, index in token_to_index.items()}\n",
    "n_tokens = len(token_to_index)\n",
    "\n",
    "def tokenize_seq(seq):\n",
    "    other_token_index = additional_token_to_index['<OTHER>']\n",
    "    return [additional_token_to_index['<START>']] + [aa_to_token_index.get(aa, other_token_index) for aa in parse_seq(seq)] + \\\n",
    "            [additional_token_to_index['<END>']]"
   ]
  },
  {
   "cell_type": "code",
   "execution_count": 42,
   "id": "94325e25",
   "metadata": {},
   "outputs": [],
   "source": [
    "token_to_aminoacid = {'A': 'Alanine', 'R': 'Arginine', 'N': 'Asparagine', 'D': 'Aspartic Acid',\n",
    "                      'C': 'Cysteine', 'E': 'Glutamic Acid', 'Q': 'Glutamine', 'G': 'Glycine', \n",
    "                      'H': 'Histidine', 'I': 'Isoleucine', 'L': 'Leucine', 'K': 'Lysine', 'M': 'Methionine',\n",
    "                      'F': 'Phenylalanine', 'P': 'Proline', 'S': 'Serine', 'T': 'Threonine', \n",
    "                      'W': 'Tryptophan', 'Y': 'Tyrosine', 'V': 'Valine', \n",
    "                      'U': 'Selenocysteine', 'O': 'Pyrrolysine',\n",
    "                      'X': 'Undefined Aminoacid', '<OTHER>': '<OTHER>',\n",
    "                      '<START>' : '<START>', '<END>': '<END>', '<PAD>': '<PAD>'}"
   ]
  },
  {
   "cell_type": "code",
   "execution_count": 48,
   "id": "c7d278d9",
   "metadata": {},
   "outputs": [
    {
     "name": "stdout",
     "output_type": "stream",
     "text": [
      "0 A Alanine\n",
      "1 C Cysteine\n",
      "2 D Aspartic Acid\n",
      "3 E Glutamic Acid\n",
      "4 F Phenylalanine\n",
      "5 G Glycine\n",
      "6 H Histidine\n",
      "7 I Isoleucine\n",
      "8 K Lysine\n",
      "9 L Leucine\n",
      "10 M Methionine\n",
      "11 N Asparagine\n",
      "12 P Proline\n",
      "13 Q Glutamine\n",
      "14 R Arginine\n",
      "15 S Serine\n",
      "16 T Threonine\n",
      "17 U Selenocysteine\n",
      "18 V Valine\n",
      "19 W Tryptophan\n",
      "20 X Undefined Aminoacid\n",
      "21 Y Tyrosine\n",
      "22 <OTHER> <OTHER>\n",
      "23 <START> <START>\n",
      "24 <END> <END>\n",
      "25 <PAD> <PAD>\n"
     ]
    }
   ],
   "source": [
    "amino_acid_to_embedding = {}\n",
    "for token, index in token_to_index.items():\n",
    "    amino_acid = token_to_aminoacid[token]\n",
    "    print(index, token, amino_acid)\n",
    "    amino_acid_to_embedding[amino_acid] = embedding_matrix[index].tolist()"
   ]
  },
  {
   "cell_type": "code",
   "execution_count": 49,
   "id": "b4843bac",
   "metadata": {},
   "outputs": [],
   "source": [
    "with open('amino_acid_to_embedding.json', 'w') as f:\n",
    "    json.dump(amino_acid_to_embedding, f)"
   ]
  },
  {
   "cell_type": "code",
   "execution_count": null,
   "id": "934c6e54",
   "metadata": {},
   "outputs": [],
   "source": []
  }
 ],
 "metadata": {
  "kernelspec": {
   "display_name": "Python 3 (ipykernel)",
   "language": "python",
   "name": "python3"
  },
  "language_info": {
   "codemirror_mode": {
    "name": "ipython",
    "version": 3
   },
   "file_extension": ".py",
   "mimetype": "text/x-python",
   "name": "python",
   "nbconvert_exporter": "python",
   "pygments_lexer": "ipython3",
   "version": "3.8.10"
  }
 },
 "nbformat": 4,
 "nbformat_minor": 5
}
