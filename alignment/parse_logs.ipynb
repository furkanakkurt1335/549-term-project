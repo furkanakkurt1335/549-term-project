{
 "cells": [
  {
   "cell_type": "code",
   "execution_count": 41,
   "metadata": {},
   "outputs": [
    {
     "data": {
      "text/plain": [
       "'data/alignments/local_proteinbert_lastblock/RV913_sp.log'"
      ]
     },
     "execution_count": 41,
     "metadata": {},
     "output_type": "execute_result"
    }
   ],
   "source": [
    "base_folder = \"data/alignments/\"\n",
    "method = \"local_proteinbert_lastblock\"\n",
    "ref = \"RV913\"\n",
    "metric = \"sp\"\n",
    "log_path = base_folder + method + '/' + ref + '_' + metric + \".log\" \n",
    "#log_path = \"C:\\\\Users\\\\efeka\\\\Desktop\\\\FALL2023\\\\CMPE549Bioinformatics\\\\PEbA\\\\PEbA-master\\\\data\\\\alignments\\\\local_blosum\\\\RV911_sp.log\"\n",
    "log_path"
   ]
  },
  {
   "cell_type": "code",
   "execution_count": 42,
   "metadata": {},
   "outputs": [],
   "source": [
    "# Initialize lists to store SP and similarity values\n",
    "metric_values = []\n",
    "similarity_values = []\n",
    "\n",
    "# Open the log file for reading\n",
    "with open(log_path, 'r') as file:\n",
    "    # Iterate through each line in the file\n",
    "    for line in file:\n",
    "        #print(line)\n",
    "        # Split the line into individual elements\n",
    "        elements = line.strip().split()\n",
    "\n",
    "        # Extract SP and similarity values from the elements\n",
    "        metric_index = elements.index(metric.upper()+':')\n",
    "        similarity_index = elements.index('similarity:')\n",
    "\n",
    "        metric_value = float(elements[metric_index + 1])\n",
    "        similarity_value = float(elements[similarity_index + 1])\n",
    "\n",
    "        # Add values to the respective lists\n",
    "        metric_values.append(metric_value)\n",
    "        similarity_values.append(similarity_value)\n",
    "\n",
    "# Print the lists of SP and similarity values\n",
    "#print(f\"{metric.upper()} values:\", metric_values)\n",
    "#print(\"Similarity values:\", similarity_values)\n"
   ]
  },
  {
   "cell_type": "code",
   "execution_count": 43,
   "metadata": {},
   "outputs": [
    {
     "name": "stdout",
     "output_type": "stream",
     "text": [
      "REFERENCE: RV913\n",
      "The mean sp score is: 0.9119802816901408\n",
      "The std of sp score is: 0.060116386226039875\n",
      "Number of PWAs: 355\n",
      "\n",
      "The mean of similarities is: 0.5969070422535211\n",
      "The std of similarities is: 0.0676238963596255\n"
     ]
    }
   ],
   "source": [
    "import numpy as np\n",
    "print(f\"REFERENCE: {ref}\")\n",
    "print(f\"The mean { metric} score is:\",np.array(metric_values).mean())\n",
    "print(f\"The std of { metric} score is:\",np.array(metric_values).std())\n",
    "print(f\"Number of PWAs: {len(metric_values)}\\n\")\n",
    "print(f\"The mean of similarities is:\",np.array(similarity_values).mean())\n",
    "print(f\"The std of similarities is:\",np.array(similarity_values).std())\n"
   ]
  }
 ],
 "metadata": {
  "kernelspec": {
   "display_name": "Python 3",
   "language": "python",
   "name": "python3"
  },
  "language_info": {
   "codemirror_mode": {
    "name": "ipython",
    "version": 3
   },
   "file_extension": ".py",
   "mimetype": "text/x-python",
   "name": "python",
   "nbconvert_exporter": "python",
   "pygments_lexer": "ipython3",
   "version": "3.11.4"
  }
 },
 "nbformat": 4,
 "nbformat_minor": 2
}
