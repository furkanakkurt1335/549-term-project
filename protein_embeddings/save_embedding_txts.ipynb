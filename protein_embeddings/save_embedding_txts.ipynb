{
 "cells": [
  {
   "cell_type": "code",
   "execution_count": 10,
   "metadata": {},
   "outputs": [],
   "source": [
    "import json, os\n",
    "from proteinbert import load_pretrained_model\n",
    "from proteinbert.conv_and_global_attention_model import get_model_with_hidden_layers_as_outputs\n",
    "import numpy as np\n",
    "import glob\n",
    "\n",
    "seq_len = 3072\n",
    "pretrained_model_generator, input_encoder = load_pretrained_model()\n",
    "model = get_model_with_hidden_layers_as_outputs(pretrained_model_generator.create_model(seq_len))\n",
    "\n",
    "seq_path = \"C:\\\\Users\\\\efeka\\\\Documents\\\\GitHub\\\\549-term-project\\\\alignment\\\\all_sequences.json\"\n",
    "\n",
    "with open(seq_path, 'r') as f:\n",
    "    sequences = json.load(f)\n",
    "\n",
    "\n",
    "for sequence in sequences:\n",
    "    ref = sequence.split('-')[0]\n",
    "    msa = sequence.split('-')[1]\n",
    "    sequence_name = sequence.split('-')[2]\n",
    "    if ref == \"RV912\":\n",
    "        #print(sequence)\n",
    "        seq_t = sequences[sequence]\n",
    "\n",
    "        encoded_x = input_encoder.encode_X([seq_t], seq_len)\n",
    "        local_representations, _ = model.predict(encoded_x, batch_size = 1, verbose = 0)\n",
    "\n",
    "        # SPECIAL TOKENS: 22: UNK, 23: BOS, 24: EOS, 25: PAD\n",
    "        mask_to_exclude_special_tokens =  encoded_x[0][0] < 23 # exclude 23: BOS, 24: EOS, 25: PAD\n",
    "        local_rep = local_representations[0][mask_to_exclude_special_tokens]\n",
    "        \n",
    "        # Save txt files of representations\n",
    "        np.savetxt(f\"output_representations/{ref}/{msa}/{sequence_name}.txt\", local_rep[:,-154:-26])"
   ]
  },
  {
   "cell_type": "code",
   "execution_count": 5,
   "metadata": {},
   "outputs": [
    {
     "data": {
      "text/plain": [
       "(763, 128)"
      ]
     },
     "execution_count": 5,
     "metadata": {},
     "output_type": "execute_result"
    }
   ],
   "source": [
    "local_rep.shape"
   ]
  }
 ],
 "metadata": {
  "kernelspec": {
   "display_name": "Python 3",
   "language": "python",
   "name": "python3"
  },
  "language_info": {
   "codemirror_mode": {
    "name": "ipython",
    "version": 3
   },
   "file_extension": ".py",
   "mimetype": "text/x-python",
   "name": "python",
   "nbconvert_exporter": "python",
   "pygments_lexer": "ipython3",
   "version": "3.11.4"
  }
 },
 "nbformat": 4,
 "nbformat_minor": 2
}
