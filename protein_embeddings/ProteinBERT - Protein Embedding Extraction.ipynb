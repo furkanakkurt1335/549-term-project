{
 "cells": [
  {
   "cell_type": "code",
   "execution_count": 1,
   "id": "e108886e",
   "metadata": {},
   "outputs": [],
   "source": [
    "import pickle\n",
    "import glob\n",
    "\n",
    "from proteinbert import load_pretrained_model\n",
    "from proteinbert.conv_and_global_attention_model import get_model_with_hidden_layers_as_outputs"
   ]
  },
  {
   "cell_type": "code",
   "execution_count": 2,
   "id": "ee6e7c06",
   "metadata": {},
   "outputs": [
    {
     "name": "stdout",
     "output_type": "stream",
     "text": [
      "1564\n"
     ]
    }
   ],
   "source": [
    "# There are 8 proteins with sequence length longer than 2048\n",
    "# however encoder does not support truncating so I just set this to 3K sequence length.\n",
    "seq_len = 3072\n",
    "pretrained_model_generator, input_encoder = load_pretrained_model()\n",
    "model = get_model_with_hidden_layers_as_outputs(pretrained_model_generator.create_model(seq_len))\n",
    "\n",
    "# Read files\n",
    "files = glob.glob('../alignment/data/sequences/*/*/*.fa', recursive = True)\n",
    "print(len(files))\n",
    "\n",
    "# There are 1564 protein sequences however only 1510 of them are unique."
   ]
  },
  {
   "cell_type": "code",
   "execution_count": 3,
   "id": "12a59638",
   "metadata": {
    "scrolled": false
   },
   "outputs": [],
   "source": [
    "protein_embeddings_result = {}\n",
    "for file in files:\n",
    "    data = {}\n",
    "    \n",
    "    lines = []\n",
    "    with open(file, 'r') as f:\n",
    "        for line in f:\n",
    "            lines.append(line.strip())\n",
    "    \n",
    "    sequence = \"\".join(lines[1:])\n",
    "\n",
    "    # Lookup key that contains the hierarchical directory of the protein.\n",
    "    # Below code is for windows directory structure with \"\\\\\"\n",
    "    protein_name = file.split('.fa')[0].split('sequences')[-1].replace('\\\\', '/')[1:]\n",
    "    \n",
    "    \n",
    "    encoded_x = input_encoder.encode_X([sequence], seq_len)\n",
    "    local_representations, global_representations = model.predict(encoded_x, batch_size = 1, verbose = 0)\n",
    "    \n",
    "    # SPECIAL TOKENS: 22: UNK, 23: BOS, 24: EOS, 25: PAD\n",
    "    mask_to_exclude_special_tokens =  encoded_x[0][0] < 23 # exclude 23: BOS, 24: EOS, 25: PAD\n",
    "    local_rep = local_representations[0][mask_to_exclude_special_tokens]\n",
    "    global_rep = global_representations[0]\n",
    "    \n",
    "    data['sequence'] = sequence\n",
    "    data['local_representations'] = local_rep\n",
    "    data['global_representations'] = global_rep\n",
    "    \n",
    "    protein_embeddings_result[protein_name] = data"
   ]
  },
  {
   "cell_type": "code",
   "execution_count": 6,
   "id": "797f83e9",
   "metadata": {
    "scrolled": false
   },
   "outputs": [
    {
     "name": "stdout",
     "output_type": "stream",
     "text": [
      "RV11/BB11001/1aab_\n",
      "GKGDPKKPRGKMSSYAFFVQTSREEHKKKHPDASVNFSEFSKKCSERWKTMSAKEKGKFEDMAKADKARYEREMKTYIPPKGE\n",
      "[[-0.03063907  0.0439351  -0.0230548  -0.00454346 -0.07563948  0.23824188\n",
      "   0.28760016  0.21519585]\n",
      " [-0.10842812 -0.01052955 -0.12841734 -0.6247565  -0.15854235 -0.06815735\n",
      "   0.18639801 -0.2140724 ]]\n",
      "[3.7444304e-06 1.6075720e-06 2.0214695e-06 2.6980438e-06 4.1014137e-06\n",
      " 3.1268844e-06 1.9361430e-06 5.6238391e-06 4.0274549e-06 8.0087545e-07\n",
      " 2.5007503e-06 6.9546523e-08]\n",
      "------------\n",
      "RV11/BB11001/1j46_A\n",
      "MQDRVKRPMNAFIVWSRDQRRKMALENPRMRNSEISKQLGYQWKMLTEAEKWPFFQEAQKLQAMHREKYPNYKYRPRRKAKMLPK\n",
      "[[-0.0844609  -0.01888618  0.13432218 -0.15523     0.04527348 -0.10490427\n",
      "   0.16837597  0.3024746 ]\n",
      " [-0.13980944  0.08109107 -0.12077155 -0.81356317 -0.10226007 -0.06641937\n",
      "   0.4179446   0.12429711]]\n",
      "[1.7145287e-05 3.1849218e-06 4.1299913e-06 4.0996460e-06 4.1652265e-06\n",
      " 3.1683444e-06 1.9399226e-06 8.1369217e-06 5.2518585e-06 2.4262645e-06\n",
      " 2.5675452e-06 1.8604208e-06]\n",
      "------------\n",
      "RV11/BB11001/1k99_A\n",
      "MKKLKKHPDFPKKPLTPYFRFFMEKRAKYAKLHPEMSNLDLTKILSKKYKELPEKKKMKYIQDFQREKQEFERNLARFREDHPDLIQNAKK\n",
      "[[-0.07890795 -0.01143013 -0.06513645 -0.1455238   0.12453029 -0.02632486\n",
      "   0.26899388  0.40605673]\n",
      " [-0.10355628  0.19195323 -0.13987686 -0.61407924  0.14819807  0.01164681\n",
      "   0.6077229  -0.10611783]]\n",
      "[7.4640943e-06 3.8191165e-06 8.8094139e-06 6.4945179e-06 8.1419366e-06\n",
      " 5.5178843e-06 2.7731537e-06 1.0423747e-05 1.4189822e-05 2.1081405e-06\n",
      " 5.3266881e-06 3.8008216e-06]\n",
      "------------\n",
      "RV11/BB11001/2lef_A\n",
      "MHIKKPLNAFMLYMKEMRANVVAESTLKESAAINQILGRRWHALSREEQAKYYELARKERQLHMQLYPGWSARDNYGKKKKRKREK\n",
      "[[-0.07178213  0.07439245 -0.0921652  -0.27883047  0.03256597  0.21702024\n",
      "   0.1931859   0.16556385]\n",
      " [ 0.06481338 -0.03604715 -0.04925817 -0.6455179  -0.06440868  0.07027537\n",
      "   0.21621624 -0.05120169]]\n",
      "[1.9411091e-05 2.2510528e-06 4.9998362e-06 3.8009846e-06 4.1544322e-06\n",
      " 3.1516975e-06 2.1233582e-06 6.6864777e-06 6.1367969e-06 3.3259960e-06\n",
      " 1.6672749e-06 8.0111153e-07]\n",
      "------------\n",
      "RV11/BB11002/1abo_A\n",
      "NLFVALYDFVASGDNTLSITKGEKLRVLGYNHNGEWCEAQTKNGQGWVPSNYITPVNS\n",
      "[[-0.0153454  -0.189533    0.03409599 -0.42809343 -0.08451915 -0.07779944\n",
      "  -0.04046028  0.06934185]\n",
      " [ 0.05685947 -0.16431686 -0.06085466 -0.15792558  0.08512432 -0.12036395\n",
      "   0.00281686  0.04811828]]\n",
      "[1.7350062e-06 2.9547533e-07 1.3482369e-07 9.8039720e-07 2.7192048e-06\n",
      " 1.4871767e-06 4.4379527e-07 1.5500364e-06 7.5722903e-07 2.1471268e-07\n",
      " 1.7009650e-06 4.4827630e-09]\n",
      "------------\n",
      "RV11/BB11002/1bb9_\n",
      "TTGRLDLPPGFMFKVQAQHDYTATDTDELQLKAGDVVLVIPFQNPEEQDEGWLMGVKESDWNQHKELEKCRGVFPENFTERVQ\n",
      "[[ 0.12748626  0.02212545  0.03051298 -0.3957193  -0.15985304  0.02684427\n",
      "   0.20803551  0.22193614]\n",
      " [ 0.0082408  -0.1713537  -0.1432445  -0.27842265 -0.03965074 -0.05000347\n",
      "  -0.01277758  0.28043586]]\n",
      "[2.5206087e-05 1.3597295e-06 2.0078817e-06 6.3878751e-06 7.9494775e-06\n",
      " 4.4943113e-06 1.5270418e-06 9.9894087e-06 4.7670669e-06 3.8902353e-06\n",
      " 2.1610335e-06 2.8034705e-07]\n",
      "------------\n"
     ]
    }
   ],
   "source": [
    "# Test Print the results\n",
    "for index, (k, v) in enumerate(protein_embeddings_result.items()):\n",
    "    print(k)\n",
    "    print(v['sequence'])\n",
    "    print(v['local_representations'][:2, :8])\n",
    "    print(v['global_representations'][-12:])\n",
    "    print('------------')\n",
    "    \n",
    "    if index  == 5:\n",
    "        break"
   ]
  },
  {
   "cell_type": "code",
   "execution_count": 7,
   "id": "3526a296",
   "metadata": {},
   "outputs": [],
   "source": [
    "# Write result as pickle.\n",
    "# Json is not possible because NumPy arrays are not serializable\n",
    "# This is 4.7 GB for whole data.\n",
    "with open('protein_embeddings.pkl', 'wb') as f:\n",
    "    pickle.dump(protein_embeddings_result, f)"
   ]
  }
 ],
 "metadata": {
  "kernelspec": {
   "display_name": "Python 3 (ipykernel)",
   "language": "python",
   "name": "python3"
  },
  "language_info": {
   "codemirror_mode": {
    "name": "ipython",
    "version": 3
   },
   "file_extension": ".py",
   "mimetype": "text/x-python",
   "name": "python",
   "nbconvert_exporter": "python",
   "pygments_lexer": "ipython3",
   "version": "3.8.10"
  }
 },
 "nbformat": 4,
 "nbformat_minor": 5
}
