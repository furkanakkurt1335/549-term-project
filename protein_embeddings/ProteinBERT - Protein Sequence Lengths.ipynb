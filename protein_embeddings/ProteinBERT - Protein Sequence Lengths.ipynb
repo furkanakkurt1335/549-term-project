{
 "cells": [
  {
   "cell_type": "code",
   "execution_count": 3,
   "id": "e108886e",
   "metadata": {},
   "outputs": [],
   "source": [
    "import glob\n",
    "\n",
    "import pandas as pd\n",
    "import matplotlib.pyplot as plt"
   ]
  },
  {
   "cell_type": "code",
   "execution_count": 4,
   "id": "f20eeb21",
   "metadata": {},
   "outputs": [
    {
     "name": "stdout",
     "output_type": "stream",
     "text": [
      "1564\n"
     ]
    }
   ],
   "source": [
    "files = glob.glob('../alignment/data/sequences/*/*/*.fa', recursive = True)\n",
    "print(len(files))"
   ]
  },
  {
   "cell_type": "code",
   "execution_count": 2,
   "id": "ee6e7c06",
   "metadata": {},
   "outputs": [
    {
     "name": "stdout",
     "output_type": "stream",
     "text": [
      "1564\n"
     ]
    }
   ],
   "source": [
    "# There are 8 proteins with sequence length longer than 2048\n",
    "# however encoder does not support truncating so I just set this to 3K sequence length.\n",
    "seq_len = 3072\n",
    "pretrained_model_generator, input_encoder = load_pretrained_model()\n",
    "model = get_model_with_hidden_layers_as_outputs(pretrained_model_generator.create_model(seq_len))\n",
    "\n",
    "# Read files\n",
    "# There are 1564 protein sequences however only 1510 of them are unique.\n",
    "files = glob.glob('../alignment/data/sequences/*/*/*.fa', recursive = True)\n",
    "print(len(files))\n",
    "\n",
    "\n"
   ]
  },
  {
   "cell_type": "code",
   "execution_count": 12,
   "id": "20283bd1",
   "metadata": {},
   "outputs": [],
   "source": [
    "sequences = []\n",
    "for file in files:\n",
    "    with open(file, 'r') as f:\n",
    "        lines = []\n",
    "        for line in f:\n",
    "            lines.append(line.strip())\n",
    "\n",
    "    sequence = \"\".join(lines[1:])\n",
    "    sequences.append(sequence)\n",
    "    \n",
    "seq_lens = [len(sequence) for sequence in sequences]"
   ]
  },
  {
   "cell_type": "code",
   "execution_count": 24,
   "id": "9c0fb16d",
   "metadata": {},
   "outputs": [
    {
     "data": {
      "image/png": "[encoded data removed]",
      "text/plain": [
       "<Figure size 400x300 with 1 Axes>"
      ]
     },
     "metadata": {},
     "output_type": "display_data"
    }
   ],
   "source": [
    "f, ax = plt.subplots(figsize = (4, 3))\n",
    "ax.hist(seq_lens, bins = 50, color = 'brown')\n",
    "ax.set_title('Sequence Length Distribution')\n",
    "ax.set_xlabel('Length')\n",
    "ax.set_ylabel('Count')\n",
    "f.savefig('seq_len_distribution.png', dpi = 300, bbox_inches = 'tight')"
   ]
  },
  {
   "cell_type": "code",
   "execution_count": 17,
   "id": "6fe399fe",
   "metadata": {},
   "outputs": [
    {
     "data": {
      "text/plain": [
       "count    1564.000000\n",
       "mean      488.982737\n",
       "std       343.716043\n",
       "min        49.000000\n",
       "25%       250.000000\n",
       "50%       426.500000\n",
       "75%       615.500000\n",
       "max      2766.000000\n",
       "dtype: float64"
      ]
     },
     "execution_count": 17,
     "metadata": {},
     "output_type": "execute_result"
    }
   ],
   "source": [
    "pd.Series(seq_lens).describe()"
   ]
  },
  {
   "cell_type": "code",
   "execution_count": null,
   "id": "22d94199",
   "metadata": {},
   "outputs": [],
   "source": []
  }
 ],
 "metadata": {
  "kernelspec": {
   "display_name": "Python 3 (ipykernel)",
   "language": "python",
   "name": "python3"
  },
  "language_info": {
   "codemirror_mode": {
    "name": "ipython",
    "version": 3
   },
   "file_extension": ".py",
   "mimetype": "text/x-python",
   "name": "python",
   "nbconvert_exporter": "python",
   "pygments_lexer": "ipython3",
   "version": "3.8.10"
  }
 },
 "nbformat": 4,
 "nbformat_minor": 5
}
